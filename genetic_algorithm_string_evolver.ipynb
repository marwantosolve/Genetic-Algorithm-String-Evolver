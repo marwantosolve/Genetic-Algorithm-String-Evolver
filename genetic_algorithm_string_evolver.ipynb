{
 "cells": [
  {
   "cell_type": "code",
   "execution_count": null,
   "id": "06078595",
   "metadata": {},
   "outputs": [],
   "source": [
    "import random\n",
    "import string"
   ]
  },
  {
   "cell_type": "code",
   "execution_count": null,
   "id": "ec497259",
   "metadata": {
    "lines_to_next_cell": 1
   },
   "outputs": [],
   "source": [
    "# Define constants\n",
    "GENES = string.ascii_letters + string.digits + string.punctuation + \" \"  # All possible characters\n",
    "TARGET = \"Hello, Genetic Algorithm!\"  # Our target string to evolve towards\n",
    "POP_SIZE = 100  # Population size\n",
    "MUT_RATE = 0.01  # Mutation rate (1% chance of mutation per gene)"
   ]
  },
  {
   "cell_type": "code",
   "execution_count": null,
   "id": "0d9687bb",
   "metadata": {
    "lines_to_next_cell": 1
   },
   "outputs": [],
   "source": [
    "def initialize_population():\n",
    "    \"\"\"\n",
    "    Generate an initial random population of chromosomes.\n",
    "    Each chromosome is a string of characters from GENES.\n",
    "    \n",
    "    Returns:\n",
    "        list: Initial population of random chromosomes with length equal to TARGET\n",
    "    \"\"\"\n",
    "    # Create an empty list to store our chromosomes\n",
    "    population = []\n",
    "    \n",
    "    # Generate POP_SIZE number of chromosomes\n",
    "    for _ in range(POP_SIZE):\n",
    "        # For each chromosome, randomly select characters from GENES\n",
    "        # to match the length of our TARGET\n",
    "        chromosome = ''.join(random.choice(GENES) for _ in range(len(TARGET)))\n",
    "        population.append(chromosome)\n",
    "    \n",
    "    return population"
   ]
  },
  {
   "cell_type": "code",
   "execution_count": null,
   "id": "2052a37c",
   "metadata": {
    "lines_to_next_cell": 1
   },
   "outputs": [],
   "source": [
    "def calculate_fitness(population):\n",
    "    \"\"\"\n",
    "    Calculate fitness for each chromosome in the population.\n",
    "    Fitness is determined by how many characters match with the TARGET.\n",
    "    \n",
    "    Args:\n",
    "        population (list): List of chromosomes\n",
    "        \n",
    "    Returns:\n",
    "        list: List of tuples containing (chromosome, fitness)\n",
    "    \"\"\"\n",
    "    # List to store chromosomes with their fitness scores\n",
    "    fitness_results = []\n",
    "    \n",
    "    for chromosome in population:\n",
    "        # Count matching characters between chromosome and TARGET\n",
    "        fitness = sum(1 for i in range(len(TARGET)) if chromosome[i] == TARGET[i])\n",
    "        \n",
    "        # Store chromosome with its fitness score\n",
    "        fitness_results.append((chromosome, fitness))\n",
    "    \n",
    "    return fitness_results"
   ]
  },
  {
   "cell_type": "code",
   "execution_count": null,
   "id": "48d0da98",
   "metadata": {
    "lines_to_next_cell": 1
   },
   "outputs": [],
   "source": [
    "def selection(population_with_fitness):\n",
    "    \"\"\"\n",
    "    Select the top 50% of chromosomes based on fitness.\n",
    "    \n",
    "    Args:\n",
    "        population_with_fitness (list): List of tuples (chromosome, fitness)\n",
    "        \n",
    "    Returns:\n",
    "        list: List of selected chromosomes (top 50%)\n",
    "    \"\"\"\n",
    "    # Sort chromosomes by fitness in descending order\n",
    "    sorted_population = sorted(population_with_fitness, key=lambda x: x[1], reverse=True)\n",
    "    \n",
    "    # Select top 50% of chromosomes\n",
    "    selected_count = POP_SIZE // 2\n",
    "    \n",
    "    # Extract only the chromosomes (not their fitness scores)\n",
    "    selected_chromosomes = [chromosome for chromosome, _ in sorted_population[:selected_count]]\n",
    "    \n",
    "    return selected_chromosomes"
   ]
  },
  {
   "cell_type": "code",
   "execution_count": null,
   "id": "1cf0e9fe",
   "metadata": {
    "lines_to_next_cell": 1
   },
   "outputs": [],
   "source": [
    "def crossover(parents):\n",
    "    \"\"\"\n",
    "    Perform crossover between parents to create offspring.\n",
    "    \n",
    "    Args:\n",
    "        parents (list): List of parent chromosomes\n",
    "        \n",
    "    Returns:\n",
    "        list: List of offspring chromosomes\n",
    "    \"\"\"\n",
    "    # Empty list to store offspring\n",
    "    offspring = []\n",
    "    \n",
    "    # We need to create enough offspring to maintain POP_SIZE\n",
    "    while len(offspring) < POP_SIZE:\n",
    "        # Randomly select two parents\n",
    "        parent1 = random.choice(parents)\n",
    "        parent2 = random.choice(parents)\n",
    "        \n",
    "        # Choose a random crossover point\n",
    "        crossover_point = random.randint(0, len(TARGET) - 1)\n",
    "        \n",
    "        # Create child by combining genes from both parents\n",
    "        child = parent1[:crossover_point] + parent2[crossover_point:]\n",
    "        \n",
    "        # Add child to offspring list\n",
    "        offspring.append(child)\n",
    "    \n",
    "    return offspring"
   ]
  },
  {
   "cell_type": "code",
   "execution_count": null,
   "id": "bdfc31cb",
   "metadata": {
    "lines_to_next_cell": 1
   },
   "outputs": [],
   "source": [
    "def mutation(offspring):\n",
    "    \"\"\"\n",
    "    Apply random mutations to offspring based on mutation rate.\n",
    "    \n",
    "    Args:\n",
    "        offspring (list): List of offspring chromosomes\n",
    "        \n",
    "    Returns:\n",
    "        list: List of mutated offspring\n",
    "    \"\"\"\n",
    "    # List to store mutated offspring\n",
    "    mutated_offspring = []\n",
    "    \n",
    "    # Apply mutation to each offspring\n",
    "    for chromosome in offspring:\n",
    "        # Convert string to list for easier mutation\n",
    "        chromosome_list = list(chromosome)\n",
    "        \n",
    "        # Check each gene for mutation\n",
    "        for i in range(len(chromosome_list)):\n",
    "            # Random chance based on mutation rate\n",
    "            if random.random() < MUT_RATE:\n",
    "                # Replace gene with a random gene from GENES\n",
    "                chromosome_list[i] = random.choice(GENES)\n",
    "        \n",
    "        # Convert back to string and add to mutated offspring\n",
    "        mutated_offspring.append(''.join(chromosome_list))\n",
    "    \n",
    "    return mutated_offspring"
   ]
  },
  {
   "cell_type": "code",
   "execution_count": null,
   "id": "471c001e",
   "metadata": {
    "lines_to_next_cell": 1
   },
   "outputs": [],
   "source": [
    "def replacement(old_population, new_generation):\n",
    "    \"\"\"\n",
    "    Replace population with a combination of best old chromosomes and new offspring.\n",
    "    \n",
    "    Args:\n",
    "        old_population (list): List of tuples (chromosome, fitness) from previous generation\n",
    "        new_generation (list): List of chromosomes from new generation\n",
    "        \n",
    "    Returns:\n",
    "        list: Combined population maintaining POP_SIZE\n",
    "    \"\"\"\n",
    "    # Sort old population by fitness\n",
    "    sorted_old = sorted(old_population, key=lambda x: x[1], reverse=True)\n",
    "    \n",
    "    # Calculate fitness for new generation\n",
    "    new_gen_with_fitness = calculate_fitness(new_generation)\n",
    "    sorted_new = sorted(new_gen_with_fitness, key=lambda x: x[1], reverse=True)\n",
    "    \n",
    "    # Take the best chromosomes from both generations\n",
    "    # We'll take top 10% from old and top 90% from new\n",
    "    old_count = POP_SIZE // 10\n",
    "    new_count = POP_SIZE - old_count\n",
    "    \n",
    "    # Combine top chromosomes from both generations\n",
    "    best_old = [chromosome for chromosome, _ in sorted_old[:old_count]]\n",
    "    best_new = [chromosome for chromosome, _ in sorted_new[:new_count]]\n",
    "    \n",
    "    return best_old + best_new"
   ]
  },
  {
   "cell_type": "code",
   "execution_count": null,
   "id": "30a157f4",
   "metadata": {
    "lines_to_next_cell": 1
   },
   "outputs": [],
   "source": [
    "def main():\n",
    "    \"\"\"\n",
    "    Main function to run the genetic algorithm.\n",
    "    \"\"\"\n",
    "    # Initialize population\n",
    "    population = initialize_population()\n",
    "    \n",
    "    # Track generations\n",
    "    generation = 0\n",
    "    best_fitness = 0\n",
    "    \n",
    "    # Run until we find the target or reach max generations\n",
    "    while best_fitness < len(TARGET):\n",
    "        # Calculate fitness for current population\n",
    "        population_with_fitness = calculate_fitness(population)\n",
    "        \n",
    "        # Find best chromosome in this generation\n",
    "        best_chromosome, best_fitness = max(population_with_fitness, key=lambda x: x[1])\n",
    "        \n",
    "        # Display progress\n",
    "        print(f\"Generation {generation}: Best fitness = {best_fitness}/{len(TARGET)}\")\n",
    "        print(f\"Best chromosome: {best_chromosome}\")\n",
    "        \n",
    "        # If target found, break\n",
    "        if best_fitness == len(TARGET):\n",
    "            print(f\"Target found in generation {generation}!\")\n",
    "            break\n",
    "        \n",
    "        # Select best parents\n",
    "        parents = selection(population_with_fitness)\n",
    "        \n",
    "        # Create offspring through crossover\n",
    "        offspring = crossover(parents)\n",
    "        \n",
    "        # Apply mutation to offspring\n",
    "        mutated_offspring = mutation(offspring)\n",
    "        \n",
    "        # Create new population through replacement\n",
    "        population = replacement(population_with_fitness, mutated_offspring)\n",
    "        \n",
    "        # Increment generation counter\n",
    "        generation += 1"
   ]
  },
  {
   "cell_type": "code",
   "execution_count": null,
   "id": "991c5c2e",
   "metadata": {},
   "outputs": [],
   "source": [
    "# Run the algorithm if this script is executed\n",
    "if __name__ == \"__main__\":\n",
    "    main()"
   ]
  }
 ],
 "metadata": {
  "jupytext": {
   "cell_metadata_filter": "-all",
   "main_language": "python",
   "notebook_metadata_filter": "-all"
  }
 },
 "nbformat": 4,
 "nbformat_minor": 5
}
